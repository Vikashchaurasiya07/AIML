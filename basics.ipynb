{
 "cells": [
  {
   "cell_type": "markdown",
   "id": "773891bc-2aaf-49b7-a4a2-771a9c38fa82",
   "metadata": {},
   "source": [
    "# This is my first comment!\n"
   ]
  },
  {
   "cell_type": "code",
   "execution_count": 6,
   "id": "ed56a0bd-a709-4c22-bbc9-665633f44683",
   "metadata": {},
   "outputs": [
    {
     "name": "stdout",
     "output_type": "stream",
     "text": [
      "My name is subin\n"
     ]
    }
   ],
   "source": [
    "print('My name is subin')\n"
   ]
  },
  {
   "cell_type": "code",
   "execution_count": 7,
   "id": "562ff1a3-a61c-45ff-8820-3fb7b17ee1e6",
   "metadata": {},
   "outputs": [
    {
     "name": "stdout",
     "output_type": "stream",
     "text": [
      "city name is Bengaluru\n"
     ]
    }
   ],
   "source": [
    "city_name='Bengaluru'\n",
    "print(f'city name is {city_name}')\n"
   ]
  },
  {
   "cell_type": "code",
   "execution_count": 10,
   "id": "085902b7-015a-4279-b68c-ecafc3c84769",
   "metadata": {},
   "outputs": [
    {
     "name": "stdout",
     "output_type": "stream",
     "text": [
      "Carbon Footprint:500kgco2\n"
     ]
    }
   ],
   "source": [
    "carbon_footprint=500#kgco2\n",
    "print(f'Carbon Footprint:{carbon_footprint}kgco2')"
   ]
  },
  {
   "cell_type": "code",
   "execution_count": 12,
   "id": "bd3b0935-451d-430b-8a70-9ffc9993a6c2",
   "metadata": {},
   "outputs": [
    {
     "name": "stdout",
     "output_type": "stream",
     "text": [
      "Is the Bengaluru sustainable?False\n"
     ]
    }
   ],
   "source": [
    "is_sustainable=carbon_footprint<400\n",
    "print(f'Is the {city_name} sustainable?{is_sustainable}')"
   ]
  },
  {
   "cell_type": "code",
   "execution_count": 13,
   "id": "29de0009-51f5-4eec-8167-28f6f339ba0a",
   "metadata": {},
   "outputs": [
    {
     "name": "stdout",
     "output_type": "stream",
     "text": [
      "weekly temperature is [20, 25, 30, 35, 40]\n"
     ]
    }
   ],
   "source": [
    "weekly_temp=[20,25,30,35,40]\n",
    "print(f'weekly temperature is {weekly_temp}')"
   ]
  },
  {
   "cell_type": "code",
   "execution_count": 14,
   "id": "b50239d4-f7bd-4b9d-ac57-c1a9c9ae8acc",
   "metadata": {},
   "outputs": [
    {
     "name": "stdout",
     "output_type": "stream",
     "text": [
      "city data:{'name': 'bengaluru', 'temperature': 30, 'is_sustainable': False, 'carbon_footprint': 500.75}\n"
     ]
    }
   ],
   "source": [
    "city_data={\n",
    "    \"name\":'bengaluru',\n",
    "    \"temperature\":30,\n",
    "    \"is_sustainable\":False,\n",
    "    \"carbon_footprint\":500.75\n",
    "    }\n",
    "print(f'city data:{city_data}')"
   ]
  },
  {
   "cell_type": "code",
   "execution_count": 15,
   "id": "dc7c1b05-55e9-43d8-9228-689593967db1",
   "metadata": {},
   "outputs": [
    {
     "name": "stdout",
     "output_type": "stream",
     "text": [
      "city is Mysore,temperature is 30,Carbon_footprint is 500.75\n"
     ]
    }
   ],
   "source": [
    "city_name,Temperature,carbon_footprint=\"Mysore\",30,500.75\n",
    "print(f'city is {city_name},temperature is {Temperature},Carbon_footprint is {carbon_footprint}')"
   ]
  },
  {
   "cell_type": "code",
   "execution_count": 17,
   "id": "78e67e3d-01b5-4b90-b9ca-229eb319d25b",
   "metadata": {},
   "outputs": [
    {
     "name": "stdout",
     "output_type": "stream",
     "text": [
      "city nameMysore\n"
     ]
    }
   ],
   "source": [
    "print(f'city name{city_name}')"
   ]
  },
  {
   "cell_type": "markdown",
   "id": "1aba960f-1c09-40b2-acbb-977387a8a1e0",
   "metadata": {},
   "source": [
    "## Control Structures"
   ]
  },
  {
   "cell_type": "code",
   "execution_count": 4,
   "id": "94557980-c452-489b-94c6-d01aa966095c",
   "metadata": {},
   "outputs": [
    {
     "name": "stdout",
     "output_type": "stream",
     "text": [
      "Cities with high temperature(> 26 C:)\n",
      "City B-30C\n",
      "City C-35C\n"
     ]
    }
   ],
   "source": [
    "#Sample climate dataset\n",
    "climate_data=[\n",
    "    {\"city\":\"City A\", \"temperature\":25, \"carbon_footprint\":500},\n",
    "    {\"city\":\"City B\", \"temperature\":30, \"carbon_footprint\":450},\n",
    "    {\"city\":\"City C\", \"temperature\":35, \"carbon_footprint\":660},\n",
    "    {\"city\":\"City D\", \"temperature\":22, \"carbon_footprint\":200},\n",
    "    {\"city\":\"City E\", \"temperature\":15, \"carbon_footprint\":350}\n",
    "]\n",
    "#High temperature threshold\n",
    "high_temp_thresh = 26\n",
    "high_temp_cities=[city for city in climate_data if city[\"temperature\"] > high_temp_thresh]\n",
    "#print the result \n",
    "print('Cities with high temperature(> 26 C:)')\n",
    "for city in high_temp_cities:\n",
    "    print(f\"{city['city']}-{city['temperature']}C\")"
   ]
  },
  {
   "cell_type": "code",
   "execution_count": 5,
   "id": "3a75a8d3-f1ab-4962-935f-ecd123a0e376",
   "metadata": {},
   "outputs": [
    {
     "name": "stdout",
     "output_type": "stream",
     "text": [
      "\n",
      " Average CArbon Footprint: 432.00kgco2\n"
     ]
    }
   ],
   "source": [
    " total_carbon=0\n",
    "\n",
    "for city in climate_data: \n",
    "    total_carbon=total_carbon + city[\"carbon_footprint\"]\n",
    "\n",
    "avg_carbon_footprint = total_carbon/len(climate_data) \n",
    "print(f\"\\n Average CArbon Footprint: {avg_carbon_footprint:.2f}kgco2\")\n",
    "\n"
   ]
  },
  {
   "cell_type": "markdown",
   "id": "b47fa8a3-08e1-4b94-86df-a96c7e9a2b61",
   "metadata": {},
   "source": [
    "# Filter and manipulate data to find sustainable cities"
   ]
  },
  {
   "cell_type": "code",
   "execution_count": 7,
   "id": "94606b48-94a0-41a1-9456-600cf3af3fff",
   "metadata": {},
   "outputs": [
    {
     "name": "stdout",
     "output_type": "stream",
     "text": [
      "Sustainable cities(carbon footprint<400 kg c02):\n",
      "City D - 200kg CO2\n",
      "City E - 350kg CO2\n"
     ]
    }
   ],
   "source": [
    "#setting the threshold for 400 kg co2\n",
    "sustainability_threshold=400\n",
    "sustainable_cities=list(filter(lambda city:city['carbon_footprint']<sustainability_threshold,climate_data))\n",
    "print(\"Sustainable cities(carbon footprint<400 kg c02):\")\n",
    "for city in sustainable_cities:\n",
    "    print(f\"{city['city']} - {city['carbon_footprint']}kg CO2\")"
   ]
  },
  {
   "cell_type": "markdown",
   "id": "2f8d13d3-c573-429c-9310-67624a6bd585",
   "metadata": {},
   "source": [
    "## Analyse data to find the city with highest carbon footprint"
   ]
  },
  {
   "cell_type": "code",
   "execution_count": 10,
   "id": "56d9f807-3e82-435b-867d-487846499a48",
   "metadata": {},
   "outputs": [
    {
     "name": "stdout",
     "output_type": "stream",
     "text": [
      "City with highest carbon footprint:\n",
      "City C - 660kg CO2\n"
     ]
    }
   ],
   "source": [
    "highest_cf_city = max(climate_data,key=lambda city: city['carbon_footprint'])\n",
    "print('City with highest carbon footprint:')\n",
    "print(f'{highest_cf_city['city']} - {highest_cf_city['carbon_footprint']}kg CO2')"
   ]
  },
  {
   "cell_type": "markdown",
   "id": "f50b4e00-eb7c-4e2f-8a83-055cd5ef52a1",
   "metadata": {},
   "source": [
    "## Implementation of functions"
   ]
  },
  {
   "cell_type": "code",
   "execution_count": 1,
   "id": "548f43e5-c8b5-4fdb-bfe4-f76df7c7aade",
   "metadata": {},
   "outputs": [],
   "source": [
    "def calculate_carbon_footprint(energy_consumption,emission_factor):\n",
    "    '''\n",
    "    this function calculates the carbon fp based on ec and ef \n",
    "    '''\n",
    "    return energy_consumption * emission_factor "
   ]
  },
  {
   "cell_type": "code",
   "execution_count": 2,
   "id": "23f83f83-ddcb-46da-a3eb-0e363d6de96e",
   "metadata": {},
   "outputs": [
    {
     "name": "stdout",
     "output_type": "stream",
     "text": [
      "Carbon Footprint: 475.0kg CO2\n"
     ]
    }
   ],
   "source": [
    "energy_consumption = 1000\n",
    "emission_factor=0.475\n",
    "carbon_footprint=calculate_carbon_footprint(energy_consumption , emission_factor)\n",
    "print(f'Carbon Footprint: {carbon_footprint}kg CO2')"
   ]
  },
  {
   "cell_type": "markdown",
   "id": "8368fcac-6260-43cf-a5cb-22299ad8816b",
   "metadata": {},
   "source": [
    "# List of cities with their carbon footprints in tons CO2 per month"
   ]
  },
  {
   "cell_type": "code",
   "execution_count": 15,
   "id": "e79fb68c-f61b-451e-8cde-f507264c4d92",
   "metadata": {},
   "outputs": [
    {
     "name": "stdout",
     "output_type": "stream",
     "text": [
      "Sustainable Cities:\n",
      "City B\n",
      "City D\n"
     ]
    }
   ],
   "source": [
    "cities = [\n",
    "    {\"name\": \"City A\", \"carbon_footprint\": 500},\n",
    "    {\"name\": \"City B\", \"carbon_footprint\": 350},\n",
    "    {\"name\": \"City C\", \"carbon_footprint\": 600},\n",
    "    {\"name\": \"City D\", \"carbon_footprint\": 200},\n",
    "]\n",
    " \n",
    "# Lambda function to filter cities below the threshold (400 ton CO2)\n",
    "sustainability_threshold = 400\n",
    "sustainable_cities = list(filter(lambda city: city[\"carbon_footprint\"] < sustainability_threshold, cities))\n",
    " \n",
    "# Printing the filtered list of sustainable cities\n",
    "print(\"Sustainable Cities:\")\n",
    "for city in sustainable_cities:\n",
    "    print(city[\"name\"])"
   ]
  },
  {
   "cell_type": "markdown",
   "id": "1f9fe2d8-9544-4209-ab82-aa7b2997a4a5",
   "metadata": {},
   "source": [
    "## class definition(energy system)"
   ]
  },
  {
   "cell_type": "code",
   "execution_count": 25,
   "id": "a99f9c46-d666-45a8-978b-a5f0d4b4dd11",
   "metadata": {},
   "outputs": [
    {
     "name": "stdout",
     "output_type": "stream",
     "text": [
      "Building A:5000kwh,0.45kg CO2/kwh\n"
     ]
    }
   ],
   "source": [
    "# Define the energy class system\n",
    "class EnergySystem:\n",
    "    def __init__(self,building_name,energy_consumption,emission_factor):\n",
    "        #Initialise the attributes\n",
    "        self.building_name=building_name\n",
    "        self.energy_consumption=energy_consumption   #in kwh\n",
    "        self.emission_factor=emission_factor #kg CO2 per kwh\n",
    "building = EnergySystem(\"Building A\",5000,0.45)\n",
    "print(f'{building.building_name}:{building.energy_consumption}kwh,{building.emission_factor}kg CO2/kwh')\n",
    "    "
   ]
  },
  {
   "cell_type": "code",
   "execution_count": 27,
   "id": "acbf8da4-b404-4588-a485-65ff6f98bb65",
   "metadata": {},
   "outputs": [
    {
     "name": "stdout",
     "output_type": "stream",
     "text": [
      "Carbon Footprint is 2250.0kgCO2 and Energy Savings is 500.0kwh\n"
     ]
    }
   ],
   "source": [
    "# Define the energy class system\n",
    "class EnergySystem:\n",
    "    def __init__(self,building_name,energy_consumption,emission_factor):\n",
    "        #Initialise the attributes\n",
    "        self.building_name=building_name\n",
    "        self.energy_consumption=energy_consumption   #in kwh\n",
    "        self.emission_factor=emission_factor #kg CO2 per kwh\n",
    "    def calculate_cf(self):\n",
    "        return self.energy_consumption * self.emission_factor\n",
    "\n",
    "    def calculate_es(self):\n",
    "        return self.energy_consumption * 0.10 #10%savings \n",
    "building = EnergySystem(\"Building A\",5000,0.45)\n",
    "carbon_fp = building.calculate_cf()\n",
    "energy_savings=building.calculate_es()\n",
    "print(f'Carbon Footprint is {carbon_fp}kgCO2 and Energy Savings is {energy_savings}kwh')\n",
    "    "
   ]
  },
  {
   "cell_type": "markdown",
   "id": "39b5c0ea-eae2-4211-92a8-9de2054dd56e",
   "metadata": {},
   "source": [
    "## Inheritance"
   ]
  },
  {
   "cell_type": "code",
   "execution_count": 34,
   "id": "aad467db-e473-4570-b306-b1e6ab157353",
   "metadata": {},
   "outputs": [
    {
     "name": "stdout",
     "output_type": "stream",
     "text": [
      "Net Energy Consumption: 3500kwh\n"
     ]
    }
   ],
   "source": [
    "class SolarEnergySystem(EnergySystem):\n",
    "    def __init__(self,building_name,energy_consumption,emission_factor,solar_production):\n",
    "        super().__init__(building_name,energy_consumption,emission_factor)\n",
    "        self.solar_production = solar_production #kwh\n",
    "\n",
    "    def net_energy_consumption(self):\n",
    "        return self.energy_consumption - self.solar_production\n",
    "\n",
    "solar_building = SolarEnergySystem(\"Solar Building\",5000,0.45,1500)\n",
    "net_consumption = solar_building.net_energy_consumption()\n",
    "print(f\"Net Energy Consumption: {net_consumption}kwh\")"
   ]
  },
  {
   "cell_type": "markdown",
   "id": "ac018821-97f3-4b7c-a52b-8a5b3a780979",
   "metadata": {},
   "source": [
    "## Encapsulation(protecting Attributes)"
   ]
  },
  {
   "cell_type": "code",
   "execution_count": 36,
   "id": "c095be50-7dd8-4a52-b6b3-526c4f71ff9a",
   "metadata": {},
   "outputs": [
    {
     "name": "stdout",
     "output_type": "stream",
     "text": [
      "Energy Consumption (accessed via method):5000kwh\n"
     ]
    }
   ],
   "source": [
    "class EnergySystem:\n",
    "    def __init__(self,building_name,energy_consumption,emission_factor):\n",
    "        #Initialise the attributes\n",
    "        self.building_name=building_name\n",
    "        self._energy_consumption=energy_consumption   #in kwh\n",
    "        self._emission_factor=emission_factor #kg CO2 per kwh\n",
    "    #Method to access energy consumption safely \n",
    "    def get_energy_consumption(self):\n",
    "        return self._energy_consumption\n",
    "    #Method to calculate carbon footprint \n",
    "    def calculate_cf(self):\n",
    "        return self._energy_consumption * self._emission_factor\n",
    "building = EnergySystem(\"Building A\",5000,0.45)\n",
    "print(f'Energy Consumption (accessed via method):{building.get_energy_consumption()}kwh')"
   ]
  },
  {
   "cell_type": "markdown",
   "id": "91ad963b-6d86-4a85-92d4-0aac7f16eee9",
   "metadata": {},
   "source": [
    "## Polymorphism"
   ]
  },
  {
   "cell_type": "code",
   "execution_count": 37,
   "id": "a4b963cd-12c0-4424-9ae0-83bd927775e4",
   "metadata": {},
   "outputs": [
    {
     "name": "stdout",
     "output_type": "stream",
     "text": [
      "Adjusted Carbon Footprint (after solar production):475.00kg CO2\n"
     ]
    }
   ],
   "source": [
    "#Subclass SolarEnergySystem overriding the carbon footprint method\n",
    "class SolarEnergySystem(EnergySystem):\n",
    "    def __init__(self,building_name,energy_consumption,emission_factor,solar_production):\n",
    "        super().__init__(building_name,energy_consumption,emission_factor)\n",
    "        self.solar_production = solar_production #kwh\n",
    "    #Overrriding the carbon footprint method to account for solar production \n",
    "    def calculate_cf(self):\n",
    "        net_consumption = self._energy_consumption - self.solar_production\n",
    "        return net_consumption * self._emission_factor\n",
    "solar_building = SolarEnergySystem(\"Solar Building\",5000,0.45,1500)\n",
    "carbon_fp=solar_building.calculate_cf()\n",
    "print(f'Adjusted Carbon Footprint (after solar production):{carbon_footprint:.2f}kg CO2')"
   ]
  },
  {
   "cell_type": "code",
   "execution_count": null,
   "id": "32d950d1-6c76-4d73-bb9d-e17f4a21d20c",
   "metadata": {},
   "outputs": [],
   "source": []
  }
 ],
 "metadata": {
  "kernelspec": {
   "display_name": "Python 3 (ipykernel)",
   "language": "python",
   "name": "python3"
  },
  "language_info": {
   "codemirror_mode": {
    "name": "ipython",
    "version": 3
   },
   "file_extension": ".py",
   "mimetype": "text/x-python",
   "name": "python",
   "nbconvert_exporter": "python",
   "pygments_lexer": "ipython3",
   "version": "3.12.8"
  }
 },
 "nbformat": 4,
 "nbformat_minor": 5
}
