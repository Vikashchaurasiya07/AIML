{
 "cells": [
  {
   "cell_type": "code",
   "execution_count": 1,
   "id": "803bac83-744c-4776-bf02-f5e837e58009",
   "metadata": {},
   "outputs": [
    {
     "data": {
      "text/plain": [
       "['__add__',\n",
       " '__class__',\n",
       " '__class_getitem__',\n",
       " '__contains__',\n",
       " '__delattr__',\n",
       " '__delitem__',\n",
       " '__dir__',\n",
       " '__doc__',\n",
       " '__eq__',\n",
       " '__format__',\n",
       " '__ge__',\n",
       " '__getattribute__',\n",
       " '__getitem__',\n",
       " '__getstate__',\n",
       " '__gt__',\n",
       " '__hash__',\n",
       " '__iadd__',\n",
       " '__imul__',\n",
       " '__init__',\n",
       " '__init_subclass__',\n",
       " '__iter__',\n",
       " '__le__',\n",
       " '__len__',\n",
       " '__lt__',\n",
       " '__mul__',\n",
       " '__ne__',\n",
       " '__new__',\n",
       " '__reduce__',\n",
       " '__reduce_ex__',\n",
       " '__repr__',\n",
       " '__reversed__',\n",
       " '__rmul__',\n",
       " '__setattr__',\n",
       " '__setitem__',\n",
       " '__sizeof__',\n",
       " '__str__',\n",
       " '__subclasshook__',\n",
       " 'append',\n",
       " 'clear',\n",
       " 'copy',\n",
       " 'count',\n",
       " 'extend',\n",
       " 'index',\n",
       " 'insert',\n",
       " 'pop',\n",
       " 'remove',\n",
       " 'reverse',\n",
       " 'sort']"
      ]
     },
     "execution_count": 1,
     "metadata": {},
     "output_type": "execute_result"
    }
   ],
   "source": [
    "dir(list)"
   ]
  },
  {
   "cell_type": "markdown",
   "id": "90c15799-7cc7-419a-85eb-5e6ada83f572",
   "metadata": {},
   "source": [
    "# Strip cases"
   ]
  },
  {
   "cell_type": "code",
   "execution_count": 3,
   "id": "099d1b66-3a5c-472d-8bbf-2764b4019cd8",
   "metadata": {},
   "outputs": [
    {
     "data": {
      "text/plain": [
       "19"
      ]
     },
     "execution_count": 3,
     "metadata": {},
     "output_type": "execute_result"
    }
   ],
   "source": [
    "y=\"19M\"\n",
    "a=y.rstrip(\"M\")\n",
    "int(a)"
   ]
  },
  {
   "cell_type": "code",
   "execution_count": 4,
   "id": "5c4c64fc-ad42-4323-a7fc-ef1ba02c1eb1",
   "metadata": {},
   "outputs": [
    {
     "name": "stdout",
     "output_type": "stream",
     "text": [
      "{'id': 101, 'name': 'India', 'age': 200, 'city': 'Delhi'}\n"
     ]
    }
   ],
   "source": [
    "d1={\"id\": 101,\"name\": \"India\",\"age\": 200,\"city\": \"Delhi\"}\n",
    "print(d1)\n"
   ]
  },
  {
   "cell_type": "code",
   "execution_count": 4,
   "id": "3ddbc00c-98e3-483b-8a6c-752f1616abbd",
   "metadata": {},
   "outputs": [],
   "source": [
    "import numpy as np"
   ]
  },
  {
   "cell_type": "code",
   "execution_count": 5,
   "id": "8522c5e7-4ade-4aac-9ac6-a2ada56d6c85",
   "metadata": {},
   "outputs": [],
   "source": [
    "a=[1,3,5,6]\n",
    "b=[4,5,6,7]\n",
    "arr1=np.array(a)\n",
    "arr2=np.array(b)"
   ]
  },
  {
   "cell_type": "code",
   "execution_count": 7,
   "id": "c9ad8043-70be-4d21-864c-ba03c1654c10",
   "metadata": {},
   "outputs": [
    {
     "data": {
      "text/plain": [
       "array([4, 5, 6, 7])"
      ]
     },
     "execution_count": 7,
     "metadata": {},
     "output_type": "execute_result"
    }
   ],
   "source": [
    "arr2"
   ]
  },
  {
   "cell_type": "code",
   "execution_count": 6,
   "id": "bfc1f6e5-1c62-41cb-bc5e-79418bfdcec4",
   "metadata": {},
   "outputs": [
    {
     "data": {
      "text/plain": [
       "array([ 4, 15, 30, 42])"
      ]
     },
     "execution_count": 6,
     "metadata": {},
     "output_type": "execute_result"
    }
   ],
   "source": [
    "arr1 * arr2"
   ]
  },
  {
   "cell_type": "code",
   "execution_count": 9,
   "id": "62fcea24-20f4-4a96-9680-92d41cc2aec4",
   "metadata": {},
   "outputs": [
    {
     "data": {
      "text/plain": [
       "1"
      ]
     },
     "execution_count": 9,
     "metadata": {},
     "output_type": "execute_result"
    }
   ],
   "source": [
    "arr1.ndim"
   ]
  },
  {
   "cell_type": "code",
   "execution_count": 7,
   "id": "3fb5499b-8f09-4bba-a381-db03c0f76c2c",
   "metadata": {},
   "outputs": [
    {
     "data": {
      "text/plain": [
       "(4,)"
      ]
     },
     "execution_count": 7,
     "metadata": {},
     "output_type": "execute_result"
    }
   ],
   "source": [
    "arr1.shape"
   ]
  },
  {
   "cell_type": "code",
   "execution_count": 11,
   "id": "0276880e-1edb-4c97-a701-9ff1127a6de1",
   "metadata": {},
   "outputs": [
    {
     "data": {
      "text/plain": [
       "dtype('int64')"
      ]
     },
     "execution_count": 11,
     "metadata": {},
     "output_type": "execute_result"
    }
   ],
   "source": [
    "arr1.dtype"
   ]
  },
  {
   "cell_type": "code",
   "execution_count": 14,
   "id": "d4955ef7-ea35-45a5-9662-0b04c213b973",
   "metadata": {},
   "outputs": [
    {
     "data": {
      "text/plain": [
       "array([[1, 2, 3],\n",
       "       [4, 5, 6],\n",
       "       [7, 8, 9]])"
      ]
     },
     "execution_count": 14,
     "metadata": {},
     "output_type": "execute_result"
    }
   ],
   "source": [
    "arr3=np.array([[1,2,3],[4,5,6],[7,8,9]])\n",
    "arr3"
   ]
  },
  {
   "cell_type": "code",
   "execution_count": 15,
   "id": "c852d39e-ebec-4108-8e21-20057007c69f",
   "metadata": {},
   "outputs": [
    {
     "data": {
      "text/plain": [
       "2"
      ]
     },
     "execution_count": 15,
     "metadata": {},
     "output_type": "execute_result"
    }
   ],
   "source": [
    "arr3.ndim"
   ]
  },
  {
   "cell_type": "code",
   "execution_count": 16,
   "id": "83f8ff50-de07-4bbb-a4fa-f8e053c178df",
   "metadata": {},
   "outputs": [
    {
     "data": {
      "text/plain": [
       "(3, 3)"
      ]
     },
     "execution_count": 16,
     "metadata": {},
     "output_type": "execute_result"
    }
   ],
   "source": [
    "arr3.shape"
   ]
  },
  {
   "cell_type": "code",
   "execution_count": 18,
   "id": "04ac8e98-e495-486a-83b4-ceace392384a",
   "metadata": {},
   "outputs": [
    {
     "data": {
      "text/plain": [
       "array([0, 1, 2, 3, 4, 5, 6, 7, 8, 9])"
      ]
     },
     "execution_count": 18,
     "metadata": {},
     "output_type": "execute_result"
    }
   ],
   "source": [
    "np.arange(0,10,1)"
   ]
  },
  {
   "cell_type": "code",
   "execution_count": 19,
   "id": "1e610176-fc94-4bb9-a596-6231bc2c329a",
   "metadata": {},
   "outputs": [
    {
     "data": {
      "text/plain": [
       "array([10,  9,  8,  7,  6,  5,  4,  3,  2])"
      ]
     },
     "execution_count": 19,
     "metadata": {},
     "output_type": "execute_result"
    }
   ],
   "source": [
    "np.arange(10,1,-1)"
   ]
  },
  {
   "cell_type": "code",
   "execution_count": 24,
   "id": "9c386d6b-243d-4954-bcbb-b1e35d979312",
   "metadata": {},
   "outputs": [
    {
     "data": {
      "text/plain": [
       "array([[97, 81, 82],\n",
       "       [96, 70, 88],\n",
       "       [77, 93, 95],\n",
       "       [64, 99, 71]], dtype=int32)"
      ]
     },
     "execution_count": 24,
     "metadata": {},
     "output_type": "execute_result"
    }
   ],
   "source": [
    "np.random.randint(10,100,12).reshape(4,3)"
   ]
  },
  {
   "cell_type": "code",
   "execution_count": 25,
   "id": "de25668a-24db-4d22-95d0-7e2e2a6f61d8",
   "metadata": {},
   "outputs": [
    {
     "data": {
      "text/plain": [
       "np.float64(45.0)"
      ]
     },
     "execution_count": 25,
     "metadata": {},
     "output_type": "execute_result"
    }
   ],
   "source": [
    "r=45.7\n",
    "np.floor(r)"
   ]
  },
  {
   "cell_type": "code",
   "execution_count": 28,
   "id": "e8b174e0-c193-457c-90a4-c43953f997cf",
   "metadata": {},
   "outputs": [
    {
     "data": {
      "text/plain": [
       "np.float64(46.0)"
      ]
     },
     "execution_count": 28,
     "metadata": {},
     "output_type": "execute_result"
    }
   ],
   "source": [
    "np.ceil(r)"
   ]
  },
  {
   "cell_type": "code",
   "execution_count": 31,
   "id": "7c8effd0-147b-44d3-b0cc-2068b4b7b06a",
   "metadata": {},
   "outputs": [],
   "source": [
    "import pandas as pd"
   ]
  },
  {
   "cell_type": "code",
   "execution_count": 32,
   "id": "dc871db9-a92a-4bc9-9b18-9dfd1d3a4023",
   "metadata": {},
   "outputs": [],
   "source": [
    "renewable_sources = ['Solar', 'Wind', 'Hydropower', 'Geothermal', 'Biomass']\n",
    "\n",
    "data = {\n",
    "    \"Project\":['Solar Farm', 'Wind Turbine', 'Hydropower', 'Solar Roof', 'Geothermal Plant'],\n",
    "    \"Technology\":['Solar', 'Wind', 'Hydro', 'Solar', 'Geothermal'],\n",
    "    \"Capacity (MW)\":[150, 300, 200, 50, 100],\n",
    "    \"Cost (Millions $)\":[200, 400, 350, 100, 250],\n",
    "    \"Location\":[\"California\", \"Texas\", \"Washington\", \"Nevada\", \"Chicago\"],\n",
    "    \"Completion Year\": [2023, 2024, 2022, 2025, 2023]\n",
    "}\n"
   ]
  },
  {
   "cell_type": "code",
   "execution_count": 34,
   "id": "94531106-92a3-424d-8ada-bbe9b85a01f0",
   "metadata": {},
   "outputs": [
    {
     "name": "stdout",
     "output_type": "stream",
     "text": [
      "Renewable energy sources are:\n",
      "0         Solar\n",
      "1          Wind\n",
      "2    Hydropower\n",
      "3    Geothermal\n",
      "4       Biomass\n",
      "dtype: object\n"
     ]
    }
   ],
   "source": [
    "#Create a pandas series for renewable energy sources\n",
    "renewable_series=pd.Series(renewable_sources)\n",
    "print('Renewable energy sources are:')\n",
    "print(renewable_series)"
   ]
  },
  {
   "cell_type": "code",
   "execution_count": 35,
   "id": "4cfe54ae-b186-4849-b948-0b1f0f558b6c",
   "metadata": {},
   "outputs": [
    {
     "name": "stdout",
     "output_type": "stream",
     "text": [
      "Green Technologies projects Dataframe:\n",
      "            Project  Technology  Capacity (MW)  Cost (Millions $)    Location  \\\n",
      "0        Solar Farm       Solar            150                200  California   \n",
      "1      Wind Turbine        Wind            300                400       Texas   \n",
      "2        Hydropower       Hydro            200                350  Washington   \n",
      "3        Solar Roof       Solar             50                100      Nevada   \n",
      "4  Geothermal Plant  Geothermal            100                250     Chicago   \n",
      "\n",
      "   Completion Year  \n",
      "0             2023  \n",
      "1             2024  \n",
      "2             2022  \n",
      "3             2025  \n",
      "4             2023  \n"
     ]
    }
   ],
   "source": [
    "#create a Dataframe for green tech projects\n",
    "df=pd.DataFrame(data)\n",
    "print(\"Green Technologies projects Dataframe:\")\n",
    "print(df)"
   ]
  },
  {
   "cell_type": "code",
   "execution_count": 36,
   "id": "1f7021a2-e033-4091-a948-2ce50cfc7bc1",
   "metadata": {},
   "outputs": [
    {
     "data": {
      "text/plain": [
       "0          Solar Farm\n",
       "1        Wind Turbine\n",
       "2          Hydropower\n",
       "3          Solar Roof\n",
       "4    Geothermal Plant\n",
       "Name: Project, dtype: object"
      ]
     },
     "execution_count": 36,
     "metadata": {},
     "output_type": "execute_result"
    }
   ],
   "source": [
    "df['Project']"
   ]
  },
  {
   "cell_type": "code",
   "execution_count": 37,
   "id": "02d5960b-cb78-4eed-9198-33c3e83beb6a",
   "metadata": {},
   "outputs": [
    {
     "name": "stdout",
     "output_type": "stream",
     "text": [
      "0          Solar Farm\n",
      "1        Wind Turbine\n",
      "2          Hydropower\n",
      "3          Solar Roof\n",
      "4    Geothermal Plant\n",
      "Name: Project, dtype: object\n"
     ]
    }
   ],
   "source": [
    "print(df['Project'])"
   ]
  },
  {
   "cell_type": "code",
   "execution_count": 39,
   "id": "fd00144c-542a-4899-99ef-881a271c38dd",
   "metadata": {},
   "outputs": [
    {
     "data": {
      "text/plain": [
       "0    California\n",
       "1         Texas\n",
       "2    Washington\n",
       "3        Nevada\n",
       "4       Chicago\n",
       "Name: Location, dtype: object"
      ]
     },
     "execution_count": 39,
     "metadata": {},
     "output_type": "execute_result"
    }
   ],
   "source": [
    "df['Location']"
   ]
  },
  {
   "cell_type": "code",
   "execution_count": 43,
   "id": "18331868-1602-44f5-9c7a-065ca7e2ef71",
   "metadata": {},
   "outputs": [
    {
     "data": {
      "text/html": [
       "<div>\n",
       "<style scoped>\n",
       "    .dataframe tbody tr th:only-of-type {\n",
       "        vertical-align: middle;\n",
       "    }\n",
       "\n",
       "    .dataframe tbody tr th {\n",
       "        vertical-align: top;\n",
       "    }\n",
       "\n",
       "    .dataframe thead th {\n",
       "        text-align: right;\n",
       "    }\n",
       "</style>\n",
       "<table border=\"1\" class=\"dataframe\">\n",
       "  <thead>\n",
       "    <tr style=\"text-align: right;\">\n",
       "      <th></th>\n",
       "      <th>Project</th>\n",
       "      <th>Technology</th>\n",
       "      <th>Capacity (MW)</th>\n",
       "      <th>Cost (Millions $)</th>\n",
       "      <th>Location</th>\n",
       "      <th>Completion Year</th>\n",
       "    </tr>\n",
       "  </thead>\n",
       "  <tbody>\n",
       "    <tr>\n",
       "      <th>0</th>\n",
       "      <td>Solar Farm</td>\n",
       "      <td>Solar</td>\n",
       "      <td>150</td>\n",
       "      <td>200</td>\n",
       "      <td>California</td>\n",
       "      <td>2023</td>\n",
       "    </tr>\n",
       "    <tr>\n",
       "      <th>1</th>\n",
       "      <td>Wind Turbine</td>\n",
       "      <td>Wind</td>\n",
       "      <td>300</td>\n",
       "      <td>400</td>\n",
       "      <td>Texas</td>\n",
       "      <td>2024</td>\n",
       "    </tr>\n",
       "    <tr>\n",
       "      <th>2</th>\n",
       "      <td>Hydropower</td>\n",
       "      <td>Hydro</td>\n",
       "      <td>200</td>\n",
       "      <td>350</td>\n",
       "      <td>Washington</td>\n",
       "      <td>2022</td>\n",
       "    </tr>\n",
       "  </tbody>\n",
       "</table>\n",
       "</div>"
      ],
      "text/plain": [
       "        Project Technology  Capacity (MW)  Cost (Millions $)    Location  \\\n",
       "0    Solar Farm      Solar            150                200  California   \n",
       "1  Wind Turbine       Wind            300                400       Texas   \n",
       "2    Hydropower      Hydro            200                350  Washington   \n",
       "\n",
       "   Completion Year  \n",
       "0             2023  \n",
       "1             2024  \n",
       "2             2022  "
      ]
     },
     "execution_count": 43,
     "metadata": {},
     "output_type": "execute_result"
    }
   ],
   "source": [
    "#want to print high capacity projects(>100MW)\n",
    "hcp = df[df['Capacity (MW)']>100]\n",
    "hcp"
   ]
  },
  {
   "cell_type": "code",
   "execution_count": 44,
   "id": "06399580-3cd2-4232-a12a-ce33237599f7",
   "metadata": {},
   "outputs": [
    {
     "data": {
      "text/plain": [
       "0     True\n",
       "1     True\n",
       "2     True\n",
       "3    False\n",
       "4    False\n",
       "Name: Capacity (MW), dtype: bool"
      ]
     },
     "execution_count": 44,
     "metadata": {},
     "output_type": "execute_result"
    }
   ],
   "source": [
    "df['Capacity (MW)']>100"
   ]
  },
  {
   "cell_type": "code",
   "execution_count": 49,
   "id": "f943cee0-04ea-4c76-9f44-07d9d0380def",
   "metadata": {},
   "outputs": [
    {
     "data": {
      "text/html": [
       "<div>\n",
       "<style scoped>\n",
       "    .dataframe tbody tr th:only-of-type {\n",
       "        vertical-align: middle;\n",
       "    }\n",
       "\n",
       "    .dataframe tbody tr th {\n",
       "        vertical-align: top;\n",
       "    }\n",
       "\n",
       "    .dataframe thead th {\n",
       "        text-align: right;\n",
       "    }\n",
       "</style>\n",
       "<table border=\"1\" class=\"dataframe\">\n",
       "  <thead>\n",
       "    <tr style=\"text-align: right;\">\n",
       "      <th></th>\n",
       "      <th>Project</th>\n",
       "      <th>Technology</th>\n",
       "      <th>Capacity (MW)</th>\n",
       "      <th>Cost (Millions $)</th>\n",
       "      <th>Location</th>\n",
       "      <th>Completion Year</th>\n",
       "      <th>Cost per MW</th>\n",
       "    </tr>\n",
       "  </thead>\n",
       "  <tbody>\n",
       "    <tr>\n",
       "      <th>0</th>\n",
       "      <td>Solar Farm</td>\n",
       "      <td>Solar</td>\n",
       "      <td>150</td>\n",
       "      <td>200</td>\n",
       "      <td>California</td>\n",
       "      <td>2023</td>\n",
       "      <td>1.333333</td>\n",
       "    </tr>\n",
       "    <tr>\n",
       "      <th>1</th>\n",
       "      <td>Wind Turbine</td>\n",
       "      <td>Wind</td>\n",
       "      <td>300</td>\n",
       "      <td>400</td>\n",
       "      <td>Texas</td>\n",
       "      <td>2024</td>\n",
       "      <td>1.333333</td>\n",
       "    </tr>\n",
       "    <tr>\n",
       "      <th>2</th>\n",
       "      <td>Hydropower</td>\n",
       "      <td>Hydro</td>\n",
       "      <td>200</td>\n",
       "      <td>350</td>\n",
       "      <td>Washington</td>\n",
       "      <td>2022</td>\n",
       "      <td>1.750000</td>\n",
       "    </tr>\n",
       "    <tr>\n",
       "      <th>3</th>\n",
       "      <td>Solar Roof</td>\n",
       "      <td>Solar</td>\n",
       "      <td>50</td>\n",
       "      <td>100</td>\n",
       "      <td>Nevada</td>\n",
       "      <td>2025</td>\n",
       "      <td>2.000000</td>\n",
       "    </tr>\n",
       "    <tr>\n",
       "      <th>4</th>\n",
       "      <td>Geothermal Plant</td>\n",
       "      <td>Geothermal</td>\n",
       "      <td>100</td>\n",
       "      <td>250</td>\n",
       "      <td>Chicago</td>\n",
       "      <td>2023</td>\n",
       "      <td>2.500000</td>\n",
       "    </tr>\n",
       "  </tbody>\n",
       "</table>\n",
       "</div>"
      ],
      "text/plain": [
       "            Project  Technology  Capacity (MW)  Cost (Millions $)    Location  \\\n",
       "0        Solar Farm       Solar            150                200  California   \n",
       "1      Wind Turbine        Wind            300                400       Texas   \n",
       "2        Hydropower       Hydro            200                350  Washington   \n",
       "3        Solar Roof       Solar             50                100      Nevada   \n",
       "4  Geothermal Plant  Geothermal            100                250     Chicago   \n",
       "\n",
       "   Completion Year  Cost per MW  \n",
       "0             2023     1.333333  \n",
       "1             2024     1.333333  \n",
       "2             2022     1.750000  \n",
       "3             2025     2.000000  \n",
       "4             2023     2.500000  "
      ]
     },
     "execution_count": 49,
     "metadata": {},
     "output_type": "execute_result"
    }
   ],
   "source": [
    "#add new col\n",
    "df[\"Cost per MW\"] = df[\"Cost (Millions $)\"] / df['Capacity (MW)']\n",
    "df"
   ]
  },
  {
   "cell_type": "code",
   "execution_count": 53,
   "id": "ec7c09f7-8abb-40b8-9212-ef39c8740232",
   "metadata": {},
   "outputs": [
    {
     "name": "stdout",
     "output_type": "stream",
     "text": [
      "The total Capacity of all the projects are: 800\n",
      "The total cost of the projects: 1300\n"
     ]
    }
   ],
   "source": [
    "#aggregation \n",
    "total_capacity = df['Capacity (MW)'].sum()\n",
    "total_cost = df['Cost (Millions $)'].sum()\n",
    "print(\"The total Capacity of all the projects are:\",total_capacity)\n",
    "print(\"The total cost of the projects:\",total_cost)"
   ]
  },
  {
   "cell_type": "code",
   "execution_count": 54,
   "id": "dd7f668e-f64e-4935-afdc-a63b99a0d07f",
   "metadata": {},
   "outputs": [
    {
     "data": {
      "text/plain": [
       "Technology\n",
       "Geothermal    100\n",
       "Hydro         200\n",
       "Solar         200\n",
       "Wind          300\n",
       "Name: Capacity (MW), dtype: int64"
      ]
     },
     "execution_count": 54,
     "metadata": {},
     "output_type": "execute_result"
    }
   ],
   "source": [
    "#Groupimg of data\n",
    "grouped_data = df.groupby(\"Technology\")[\"Capacity (MW)\"].sum()\n",
    "grouped_data"
   ]
  },
  {
   "cell_type": "markdown",
   "id": "4cbfab7d-18f0-4ec2-b0d5-43d737000753",
   "metadata": {},
   "source": [
    "## DAy3:Numpy"
   ]
  },
  {
   "cell_type": "code",
   "execution_count": 13,
   "id": "e5721c79-9374-48e9-b4eb-ee7392feba0b",
   "metadata": {},
   "outputs": [
    {
     "name": "stdout",
     "output_type": "stream",
     "text": [
      "Energy Consumptionin mwh for different energy sources:\n"
     ]
    },
    {
     "data": {
      "text/plain": [
       "array([1200, 3400, 2900, 1800, 2500])"
      ]
     },
     "execution_count": 13,
     "metadata": {},
     "output_type": "execute_result"
    }
   ],
   "source": [
    "import numpy as np\n",
    "\n",
    "energy_consumption=np.array([1200, 3400, 2900, 1800, 2500])\n",
    "print(\"Energy Consumptionin mwh for different energy sources:\")\n",
    "energy_consumption"
   ]
  },
  {
   "cell_type": "code",
   "execution_count": 14,
   "id": "17a2237e-b457-4bd9-84a3-eb5ba7ece2a2",
   "metadata": {},
   "outputs": [
    {
     "name": "stdout",
     "output_type": "stream",
     "text": [
      "The total energy consumption is 11800 in mwh\n"
     ]
    }
   ],
   "source": [
    "# Calculate the total energy consumption\n",
    "total_consumption = np.sum(energy_consumption)\n",
    "print(f'The total energy consumption is {total_consumption} in mwh')"
   ]
  },
  {
   "cell_type": "code",
   "execution_count": 15,
   "id": "8491c254-c01e-4335-bbe3-96639a59ec92",
   "metadata": {},
   "outputs": [
    {
     "name": "stdout",
     "output_type": "stream",
     "text": [
      "The mean energy consumption is 2360.0 MWh\n"
     ]
    }
   ],
   "source": [
    "#Calculate the mean energy consumption \n",
    "mean_consumption=np.mean(energy_consumption)\n",
    "print(f\"The mean energy consumption is {mean_consumption} MWh\")"
   ]
  },
  {
   "cell_type": "code",
   "execution_count": 16,
   "id": "fac3b552-992e-4113-ba58-d4fd1d9cc92e",
   "metadata": {},
   "outputs": [
    {
     "data": {
      "text/plain": [
       "np.float64(781.2809993849844)"
      ]
     },
     "execution_count": 16,
     "metadata": {},
     "output_type": "execute_result"
    }
   ],
   "source": [
    "# Calculate the standard deviation of energy consumption \n",
    "std_ec=np.std(energy_consumption)\n",
    "std_ec"
   ]
  },
  {
   "cell_type": "code",
   "execution_count": 17,
   "id": "cd838953-b5d5-461f-a5ea-a891a8f7ea76",
   "metadata": {},
   "outputs": [
    {
     "name": "stdout",
     "output_type": "stream",
     "text": [
      "The standard deviation of energy consumption 781.2809993849844 MWh\n"
     ]
    }
   ],
   "source": [
    "print(f\"The standard deviation of energy consumption {std_ec} MWh\")"
   ]
  },
  {
   "cell_type": "code",
   "execution_count": 17,
   "id": "30705abc-2171-4ba4-acb1-0d1b72a54b38",
   "metadata": {},
   "outputs": [
    {
     "name": "stdout",
     "output_type": "stream",
     "text": [
      "Reshaped array is:\n",
      "[[1200]\n",
      " [3400]\n",
      " [2900]\n",
      " [1800]\n",
      " [2500]]\n"
     ]
    }
   ],
   "source": [
    "# Reshape the array\n",
    "reshaped_array=energy_consumption.reshape((5,1))\n",
    "print(\"Reshaped array is:\")\n",
    "print(reshaped_array)"
   ]
  },
  {
   "cell_type": "markdown",
   "id": "27f1eefa-6011-4d00-ba57-9f1c9791b40e",
   "metadata": {},
   "source": [
    "## Data preprocessing"
   ]
  },
  {
   "cell_type": "code",
   "execution_count": 18,
   "id": "7ae69dcf-1801-4cde-b891-a89b5a2672ee",
   "metadata": {},
   "outputs": [],
   "source": [
    "import pandas as pd\n",
    "import numpy as np\n",
    "\n",
    "# Sample data with missing values\n",
    "data = {\n",
    "    \"Energy Source\": ['Solar', 'Wind', 'Hydropower', 'Geothermal', 'Biomass', 'Nuclear'],\n",
    "    \"Energy Consumption (MWh)\": [1200, np.nan, 2900, np.nan, 2500, 3200],\n",
    "    \"Cost (millions $)\": [200, 400, np.nan, 150, 250, np.nan]\n",
    "}\n"
   ]
  },
  {
   "cell_type": "code",
   "execution_count": 19,
   "id": "a2e1f17e-b029-47b7-b72e-46c2c08ab45d",
   "metadata": {},
   "outputs": [
    {
     "name": "stdout",
     "output_type": "stream",
     "text": [
      "  Energy Source  Energy Consumption (MWh)  Cost (millions $)\n",
      "0         Solar                    1200.0              200.0\n",
      "1          Wind                       NaN              400.0\n",
      "2    Hydropower                    2900.0                NaN\n",
      "3    Geothermal                       NaN              150.0\n",
      "4       Biomass                    2500.0              250.0\n",
      "5       Nuclear                    3200.0                NaN\n"
     ]
    }
   ],
   "source": [
    "# Create a DataFrame\n",
    "df = pd.DataFrame(data)\n",
    "print(df)"
   ]
  },
  {
   "cell_type": "markdown",
   "id": "0a9f29d7-bec9-45f3-9321-b5fba10dc6c5",
   "metadata": {},
   "source": [
    "## Handling the Missing Value:\n",
    "Rmoving(drop)mv\n",
    "\n",
    "\n",
    "impute(fill)mv-mean"
   ]
  },
  {
   "cell_type": "code",
   "execution_count": 20,
   "id": "bcedaa6c-e19d-40a2-8105-cf06e4164905",
   "metadata": {},
   "outputs": [
    {
     "data": {
      "text/html": [
       "<div>\n",
       "<style scoped>\n",
       "    .dataframe tbody tr th:only-of-type {\n",
       "        vertical-align: middle;\n",
       "    }\n",
       "\n",
       "    .dataframe tbody tr th {\n",
       "        vertical-align: top;\n",
       "    }\n",
       "\n",
       "    .dataframe thead th {\n",
       "        text-align: right;\n",
       "    }\n",
       "</style>\n",
       "<table border=\"1\" class=\"dataframe\">\n",
       "  <thead>\n",
       "    <tr style=\"text-align: right;\">\n",
       "      <th></th>\n",
       "      <th>Energy Source</th>\n",
       "      <th>Energy Consumption (MWh)</th>\n",
       "      <th>Cost (millions $)</th>\n",
       "    </tr>\n",
       "  </thead>\n",
       "  <tbody>\n",
       "    <tr>\n",
       "      <th>0</th>\n",
       "      <td>Solar</td>\n",
       "      <td>1200.0</td>\n",
       "      <td>200.0</td>\n",
       "    </tr>\n",
       "    <tr>\n",
       "      <th>4</th>\n",
       "      <td>Biomass</td>\n",
       "      <td>2500.0</td>\n",
       "      <td>250.0</td>\n",
       "    </tr>\n",
       "  </tbody>\n",
       "</table>\n",
       "</div>"
      ],
      "text/plain": [
       "  Energy Source  Energy Consumption (MWh)  Cost (millions $)\n",
       "0         Solar                    1200.0              200.0\n",
       "4       Biomass                    2500.0              250.0"
      ]
     },
     "execution_count": 20,
     "metadata": {},
     "output_type": "execute_result"
    }
   ],
   "source": [
    "#Remove rows with missing values \n",
    "cleaned_df= df.dropna()\n",
    "cleaned_df"
   ]
  },
  {
   "cell_type": "markdown",
   "id": "5beff20a-e63b-4b7d-bee9-3714875e7663",
   "metadata": {},
   "source": [
    "## Imputation-to add or fill\n",
    ".with mean\n",
    "\n",
    ". forward/backward filling"
   ]
  },
  {
   "cell_type": "code",
   "execution_count": 21,
   "id": "3a49e21c-9e46-46d5-8da6-b5a12b86a3ef",
   "metadata": {},
   "outputs": [
    {
     "name": "stderr",
     "output_type": "stream",
     "text": [
      "C:\\Users\\91810\\AppData\\Local\\Temp\\ipykernel_16220\\1149159332.py:2: FutureWarning: A value is trying to be set on a copy of a DataFrame or Series through chained assignment using an inplace method.\n",
      "The behavior will change in pandas 3.0. This inplace method will never work because the intermediate object on which we are setting values always behaves as a copy.\n",
      "\n",
      "For example, when doing 'df[col].method(value, inplace=True)', try using 'df.method({col: value}, inplace=True)' or df[col] = df[col].method(value) instead, to perform the operation inplace on the original object.\n",
      "\n",
      "\n",
      "  df[\"Energy Consumption (MWh)\"].fillna(df['Energy Consumption (MWh)']. mean(), inplace=True)\n",
      "C:\\Users\\91810\\AppData\\Local\\Temp\\ipykernel_16220\\1149159332.py:3: FutureWarning: A value is trying to be set on a copy of a DataFrame or Series through chained assignment using an inplace method.\n",
      "The behavior will change in pandas 3.0. This inplace method will never work because the intermediate object on which we are setting values always behaves as a copy.\n",
      "\n",
      "For example, when doing 'df[col].method(value, inplace=True)', try using 'df.method({col: value}, inplace=True)' or df[col] = df[col].method(value) instead, to perform the operation inplace on the original object.\n",
      "\n",
      "\n",
      "  df[\"Cost (millions $)\"].fillna(df[\"Cost (millions $)\"].mean(), inplace=True)\n"
     ]
    },
    {
     "data": {
      "text/html": [
       "<div>\n",
       "<style scoped>\n",
       "    .dataframe tbody tr th:only-of-type {\n",
       "        vertical-align: middle;\n",
       "    }\n",
       "\n",
       "    .dataframe tbody tr th {\n",
       "        vertical-align: top;\n",
       "    }\n",
       "\n",
       "    .dataframe thead th {\n",
       "        text-align: right;\n",
       "    }\n",
       "</style>\n",
       "<table border=\"1\" class=\"dataframe\">\n",
       "  <thead>\n",
       "    <tr style=\"text-align: right;\">\n",
       "      <th></th>\n",
       "      <th>Energy Source</th>\n",
       "      <th>Energy Consumption (MWh)</th>\n",
       "      <th>Cost (millions $)</th>\n",
       "    </tr>\n",
       "  </thead>\n",
       "  <tbody>\n",
       "    <tr>\n",
       "      <th>0</th>\n",
       "      <td>Solar</td>\n",
       "      <td>1200.0</td>\n",
       "      <td>200.0</td>\n",
       "    </tr>\n",
       "    <tr>\n",
       "      <th>1</th>\n",
       "      <td>Wind</td>\n",
       "      <td>2450.0</td>\n",
       "      <td>400.0</td>\n",
       "    </tr>\n",
       "    <tr>\n",
       "      <th>2</th>\n",
       "      <td>Hydropower</td>\n",
       "      <td>2900.0</td>\n",
       "      <td>250.0</td>\n",
       "    </tr>\n",
       "    <tr>\n",
       "      <th>3</th>\n",
       "      <td>Geothermal</td>\n",
       "      <td>2450.0</td>\n",
       "      <td>150.0</td>\n",
       "    </tr>\n",
       "    <tr>\n",
       "      <th>4</th>\n",
       "      <td>Biomass</td>\n",
       "      <td>2500.0</td>\n",
       "      <td>250.0</td>\n",
       "    </tr>\n",
       "    <tr>\n",
       "      <th>5</th>\n",
       "      <td>Nuclear</td>\n",
       "      <td>3200.0</td>\n",
       "      <td>250.0</td>\n",
       "    </tr>\n",
       "  </tbody>\n",
       "</table>\n",
       "</div>"
      ],
      "text/plain": [
       "  Energy Source  Energy Consumption (MWh)  Cost (millions $)\n",
       "0         Solar                    1200.0              200.0\n",
       "1          Wind                    2450.0              400.0\n",
       "2    Hydropower                    2900.0              250.0\n",
       "3    Geothermal                    2450.0              150.0\n",
       "4       Biomass                    2500.0              250.0\n",
       "5       Nuclear                    3200.0              250.0"
      ]
     },
     "execution_count": 21,
     "metadata": {},
     "output_type": "execute_result"
    }
   ],
   "source": [
    "# Impute missing values with the mean for energy consumption\n",
    "df[\"Energy Consumption (MWh)\"].fillna(df['Energy Consumption (MWh)']. mean(), inplace=True)\n",
    "df[\"Cost (millions $)\"].fillna(df[\"Cost (millions $)\"].mean(), inplace=True)\n",
    "\n",
    "df"
   ]
  },
  {
   "cell_type": "code",
   "execution_count": 22,
   "id": "3297ef98-e9f1-4f2f-94e0-3764dcc4db7f",
   "metadata": {},
   "outputs": [
    {
     "name": "stderr",
     "output_type": "stream",
     "text": [
      "C:\\Users\\91810\\AppData\\Local\\Temp\\ipykernel_16220\\1475923195.py:2: FutureWarning: DataFrame.fillna with 'method' is deprecated and will raise in a future version. Use obj.ffill() or obj.bfill() instead.\n",
      "  ff_df = df.fillna(method=\"ffill\")\n"
     ]
    },
    {
     "data": {
      "text/html": [
       "<div>\n",
       "<style scoped>\n",
       "    .dataframe tbody tr th:only-of-type {\n",
       "        vertical-align: middle;\n",
       "    }\n",
       "\n",
       "    .dataframe tbody tr th {\n",
       "        vertical-align: top;\n",
       "    }\n",
       "\n",
       "    .dataframe thead th {\n",
       "        text-align: right;\n",
       "    }\n",
       "</style>\n",
       "<table border=\"1\" class=\"dataframe\">\n",
       "  <thead>\n",
       "    <tr style=\"text-align: right;\">\n",
       "      <th></th>\n",
       "      <th>Energy Source</th>\n",
       "      <th>Energy Consumption (MWh)</th>\n",
       "      <th>Cost (millions $)</th>\n",
       "    </tr>\n",
       "  </thead>\n",
       "  <tbody>\n",
       "    <tr>\n",
       "      <th>0</th>\n",
       "      <td>Solar</td>\n",
       "      <td>1200.0</td>\n",
       "      <td>200.0</td>\n",
       "    </tr>\n",
       "    <tr>\n",
       "      <th>1</th>\n",
       "      <td>Wind</td>\n",
       "      <td>2450.0</td>\n",
       "      <td>400.0</td>\n",
       "    </tr>\n",
       "    <tr>\n",
       "      <th>2</th>\n",
       "      <td>Hydropower</td>\n",
       "      <td>2900.0</td>\n",
       "      <td>250.0</td>\n",
       "    </tr>\n",
       "    <tr>\n",
       "      <th>3</th>\n",
       "      <td>Geothermal</td>\n",
       "      <td>2450.0</td>\n",
       "      <td>150.0</td>\n",
       "    </tr>\n",
       "    <tr>\n",
       "      <th>4</th>\n",
       "      <td>Biomass</td>\n",
       "      <td>2500.0</td>\n",
       "      <td>250.0</td>\n",
       "    </tr>\n",
       "    <tr>\n",
       "      <th>5</th>\n",
       "      <td>Nuclear</td>\n",
       "      <td>3200.0</td>\n",
       "      <td>250.0</td>\n",
       "    </tr>\n",
       "  </tbody>\n",
       "</table>\n",
       "</div>"
      ],
      "text/plain": [
       "  Energy Source  Energy Consumption (MWh)  Cost (millions $)\n",
       "0         Solar                    1200.0              200.0\n",
       "1          Wind                    2450.0              400.0\n",
       "2    Hydropower                    2900.0              250.0\n",
       "3    Geothermal                    2450.0              150.0\n",
       "4       Biomass                    2500.0              250.0\n",
       "5       Nuclear                    3200.0              250.0"
      ]
     },
     "execution_count": 22,
     "metadata": {},
     "output_type": "execute_result"
    }
   ],
   "source": [
    "# Forward filing missing values\n",
    "ff_df = df.fillna(method=\"ffill\")\n",
    "ff_df"
   ]
  },
  {
   "cell_type": "code",
   "execution_count": 23,
   "id": "f5c0d86f-81b0-43e9-9c1a-0e4a5aefa517",
   "metadata": {},
   "outputs": [
    {
     "data": {
      "text/html": [
       "<div>\n",
       "<style scoped>\n",
       "    .dataframe tbody tr th:only-of-type {\n",
       "        vertical-align: middle;\n",
       "    }\n",
       "\n",
       "    .dataframe tbody tr th {\n",
       "        vertical-align: top;\n",
       "    }\n",
       "\n",
       "    .dataframe thead th {\n",
       "        text-align: right;\n",
       "    }\n",
       "</style>\n",
       "<table border=\"1\" class=\"dataframe\">\n",
       "  <thead>\n",
       "    <tr style=\"text-align: right;\">\n",
       "      <th></th>\n",
       "      <th>Energy Source</th>\n",
       "      <th>Energy Consumption (MWh)</th>\n",
       "      <th>Cost (millions $)</th>\n",
       "    </tr>\n",
       "  </thead>\n",
       "  <tbody>\n",
       "    <tr>\n",
       "      <th>0</th>\n",
       "      <td>Solar</td>\n",
       "      <td>0.000</td>\n",
       "      <td>0.2</td>\n",
       "    </tr>\n",
       "    <tr>\n",
       "      <th>1</th>\n",
       "      <td>Wind</td>\n",
       "      <td>0.625</td>\n",
       "      <td>1.0</td>\n",
       "    </tr>\n",
       "    <tr>\n",
       "      <th>2</th>\n",
       "      <td>Hydropower</td>\n",
       "      <td>0.850</td>\n",
       "      <td>0.4</td>\n",
       "    </tr>\n",
       "    <tr>\n",
       "      <th>3</th>\n",
       "      <td>Geothermal</td>\n",
       "      <td>0.625</td>\n",
       "      <td>0.0</td>\n",
       "    </tr>\n",
       "    <tr>\n",
       "      <th>4</th>\n",
       "      <td>Biomass</td>\n",
       "      <td>0.650</td>\n",
       "      <td>0.4</td>\n",
       "    </tr>\n",
       "    <tr>\n",
       "      <th>5</th>\n",
       "      <td>Nuclear</td>\n",
       "      <td>1.000</td>\n",
       "      <td>0.4</td>\n",
       "    </tr>\n",
       "  </tbody>\n",
       "</table>\n",
       "</div>"
      ],
      "text/plain": [
       "  Energy Source  Energy Consumption (MWh)  Cost (millions $)\n",
       "0         Solar                     0.000                0.2\n",
       "1          Wind                     0.625                1.0\n",
       "2    Hydropower                     0.850                0.4\n",
       "3    Geothermal                     0.625                0.0\n",
       "4       Biomass                     0.650                0.4\n",
       "5       Nuclear                     1.000                0.4"
      ]
     },
     "execution_count": 23,
     "metadata": {},
     "output_type": "execute_result"
    }
   ],
   "source": [
    "# Data Preprocessing - Normalization\n",
    "from sklearn.preprocessing import MinMaxScaler\n",
    "\n",
    "scaler = MinMaxScaler()\n",
    "df[[\"Energy Consumption (MWh)\", \"Cost (millions $)\"]] = scaler.fit_transform(df[[\"Energy Consumption (MWh)\", \"Cost (millions $)\"]])\n",
    "\n",
    "df"
   ]
  },
  {
   "cell_type": "code",
   "execution_count": 25,
   "id": "becda9ce-389e-4998-bde9-cc3df45d7c12",
   "metadata": {},
   "outputs": [
    {
     "data": {
      "text/html": [
       "<div>\n",
       "<style scoped>\n",
       "    .dataframe tbody tr th:only-of-type {\n",
       "        vertical-align: middle;\n",
       "    }\n",
       "\n",
       "    .dataframe tbody tr th {\n",
       "        vertical-align: top;\n",
       "    }\n",
       "\n",
       "    .dataframe thead th {\n",
       "        text-align: right;\n",
       "    }\n",
       "</style>\n",
       "<table border=\"1\" class=\"dataframe\">\n",
       "  <thead>\n",
       "    <tr style=\"text-align: right;\">\n",
       "      <th></th>\n",
       "      <th>Energy Source</th>\n",
       "      <th>Energy Consumption (MWh)</th>\n",
       "      <th>Cost (millions $)</th>\n",
       "    </tr>\n",
       "  </thead>\n",
       "  <tbody>\n",
       "    <tr>\n",
       "      <th>0</th>\n",
       "      <td>Solar</td>\n",
       "      <td>-2.005893e+00</td>\n",
       "      <td>-6.546537e-01</td>\n",
       "    </tr>\n",
       "    <tr>\n",
       "      <th>1</th>\n",
       "      <td>Wind</td>\n",
       "      <td>3.563181e-16</td>\n",
       "      <td>1.963961e+00</td>\n",
       "    </tr>\n",
       "    <tr>\n",
       "      <th>2</th>\n",
       "      <td>Hydropower</td>\n",
       "      <td>7.221213e-01</td>\n",
       "      <td>1.817029e-16</td>\n",
       "    </tr>\n",
       "    <tr>\n",
       "      <th>3</th>\n",
       "      <td>Geothermal</td>\n",
       "      <td>3.563181e-16</td>\n",
       "      <td>-1.309307e+00</td>\n",
       "    </tr>\n",
       "    <tr>\n",
       "      <th>4</th>\n",
       "      <td>Biomass</td>\n",
       "      <td>8.023570e-02</td>\n",
       "      <td>1.817029e-16</td>\n",
       "    </tr>\n",
       "    <tr>\n",
       "      <th>5</th>\n",
       "      <td>Nuclear</td>\n",
       "      <td>1.203536e+00</td>\n",
       "      <td>1.817029e-16</td>\n",
       "    </tr>\n",
       "  </tbody>\n",
       "</table>\n",
       "</div>"
      ],
      "text/plain": [
       "  Energy Source  Energy Consumption (MWh)  Cost (millions $)\n",
       "0         Solar             -2.005893e+00      -6.546537e-01\n",
       "1          Wind              3.563181e-16       1.963961e+00\n",
       "2    Hydropower              7.221213e-01       1.817029e-16\n",
       "3    Geothermal              3.563181e-16      -1.309307e+00\n",
       "4       Biomass              8.023570e-02       1.817029e-16\n",
       "5       Nuclear              1.203536e+00       1.817029e-16"
      ]
     },
     "execution_count": 25,
     "metadata": {},
     "output_type": "execute_result"
    }
   ],
   "source": [
    "from sklearn.preprocessing import StandardScaler\n",
    "\n",
    "scaler = StandardScaler()\n",
    "\n",
    "df[['Energy Consumption (MWh)', 'Cost (millions $)']] = scaler.fit_transform(\n",
    "    df[['Energy Consumption (MWh)', 'Cost (millions $)']])\n",
    "df"
   ]
  },
  {
   "cell_type": "code",
   "execution_count": 30,
   "id": "7a41e199-3b6b-4eed-ae9e-3e80747534c4",
   "metadata": {},
   "outputs": [
    {
     "name": "stdout",
     "output_type": "stream",
     "text": [
      "   Energy Consumption (MWh)  Cost (millions $)  Energy Source_Biomass  \\\n",
      "0             -2.005893e+00      -6.546537e-01                  False   \n",
      "1              3.563181e-16       1.963961e+00                  False   \n",
      "2              7.221213e-01       1.817029e-16                  False   \n",
      "3              3.563181e-16      -1.309307e+00                  False   \n",
      "4              8.023570e-02       1.817029e-16                   True   \n",
      "5              1.203536e+00       1.817029e-16                  False   \n",
      "\n",
      "   Energy Source_Geothermal  Energy Source_Hydropower  Energy Source_Nuclear  \\\n",
      "0                     False                     False                  False   \n",
      "1                     False                     False                  False   \n",
      "2                     False                      True                  False   \n",
      "3                      True                     False                  False   \n",
      "4                     False                     False                  False   \n",
      "5                     False                     False                   True   \n",
      "\n",
      "   Energy Source_Solar  Energy Source_Wind  \n",
      "0                 True               False  \n",
      "1                False                True  \n",
      "2                False               False  \n",
      "3                False               False  \n",
      "4                False               False  \n",
      "5                False               False  \n"
     ]
    }
   ],
   "source": [
    "ohe_df = pd.get_dummies(df, columns=[\"Energy Source\"])\n",
    "print(ohe_df)"
   ]
  },
  {
   "cell_type": "code",
   "execution_count": 33,
   "id": "8caed460-8843-4286-84aa-75651d28993e",
   "metadata": {},
   "outputs": [
    {
     "data": {
      "text/html": [
       "<div>\n",
       "<style scoped>\n",
       "    .dataframe tbody tr th:only-of-type {\n",
       "        vertical-align: middle;\n",
       "    }\n",
       "\n",
       "    .dataframe tbody tr th {\n",
       "        vertical-align: top;\n",
       "    }\n",
       "\n",
       "    .dataframe thead th {\n",
       "        text-align: right;\n",
       "    }\n",
       "</style>\n",
       "<table border=\"1\" class=\"dataframe\">\n",
       "  <thead>\n",
       "    <tr style=\"text-align: right;\">\n",
       "      <th></th>\n",
       "      <th>Energy Consumption (MWh)</th>\n",
       "      <th>Cost (millions $)</th>\n",
       "      <th>Energy Source_Biomass</th>\n",
       "      <th>Energy Source_Geothermal</th>\n",
       "      <th>Energy Source_Hydropower</th>\n",
       "      <th>Energy Source_Nuclear</th>\n",
       "      <th>Energy Source_Solar</th>\n",
       "      <th>Energy Source_Wind</th>\n",
       "      <th>Consumption per Million $</th>\n",
       "    </tr>\n",
       "  </thead>\n",
       "  <tbody>\n",
       "    <tr>\n",
       "      <th>0</th>\n",
       "      <td>-2.005893e+00</td>\n",
       "      <td>-6.546537e-01</td>\n",
       "      <td>False</td>\n",
       "      <td>False</td>\n",
       "      <td>False</td>\n",
       "      <td>False</td>\n",
       "      <td>True</td>\n",
       "      <td>False</td>\n",
       "      <td>3.064052e+00</td>\n",
       "    </tr>\n",
       "    <tr>\n",
       "      <th>1</th>\n",
       "      <td>3.563181e-16</td>\n",
       "      <td>1.963961e+00</td>\n",
       "      <td>False</td>\n",
       "      <td>False</td>\n",
       "      <td>False</td>\n",
       "      <td>False</td>\n",
       "      <td>False</td>\n",
       "      <td>True</td>\n",
       "      <td>1.814283e-16</td>\n",
       "    </tr>\n",
       "    <tr>\n",
       "      <th>2</th>\n",
       "      <td>7.221213e-01</td>\n",
       "      <td>1.817029e-16</td>\n",
       "      <td>False</td>\n",
       "      <td>False</td>\n",
       "      <td>True</td>\n",
       "      <td>False</td>\n",
       "      <td>False</td>\n",
       "      <td>False</td>\n",
       "      <td>3.974187e+15</td>\n",
       "    </tr>\n",
       "    <tr>\n",
       "      <th>3</th>\n",
       "      <td>3.563181e-16</td>\n",
       "      <td>-1.309307e+00</td>\n",
       "      <td>False</td>\n",
       "      <td>True</td>\n",
       "      <td>False</td>\n",
       "      <td>False</td>\n",
       "      <td>False</td>\n",
       "      <td>False</td>\n",
       "      <td>-2.721424e-16</td>\n",
       "    </tr>\n",
       "    <tr>\n",
       "      <th>4</th>\n",
       "      <td>8.023570e-02</td>\n",
       "      <td>1.817029e-16</td>\n",
       "      <td>True</td>\n",
       "      <td>False</td>\n",
       "      <td>False</td>\n",
       "      <td>False</td>\n",
       "      <td>False</td>\n",
       "      <td>False</td>\n",
       "      <td>4.415764e+14</td>\n",
       "    </tr>\n",
       "    <tr>\n",
       "      <th>5</th>\n",
       "      <td>1.203536e+00</td>\n",
       "      <td>1.817029e-16</td>\n",
       "      <td>False</td>\n",
       "      <td>False</td>\n",
       "      <td>False</td>\n",
       "      <td>True</td>\n",
       "      <td>False</td>\n",
       "      <td>False</td>\n",
       "      <td>6.623646e+15</td>\n",
       "    </tr>\n",
       "  </tbody>\n",
       "</table>\n",
       "</div>"
      ],
      "text/plain": [
       "   Energy Consumption (MWh)  Cost (millions $)  Energy Source_Biomass  \\\n",
       "0             -2.005893e+00      -6.546537e-01                  False   \n",
       "1              3.563181e-16       1.963961e+00                  False   \n",
       "2              7.221213e-01       1.817029e-16                  False   \n",
       "3              3.563181e-16      -1.309307e+00                  False   \n",
       "4              8.023570e-02       1.817029e-16                   True   \n",
       "5              1.203536e+00       1.817029e-16                  False   \n",
       "\n",
       "   Energy Source_Geothermal  Energy Source_Hydropower  Energy Source_Nuclear  \\\n",
       "0                     False                     False                  False   \n",
       "1                     False                     False                  False   \n",
       "2                     False                      True                  False   \n",
       "3                      True                     False                  False   \n",
       "4                     False                     False                  False   \n",
       "5                     False                     False                   True   \n",
       "\n",
       "   Energy Source_Solar  Energy Source_Wind  Consumption per Million $  \n",
       "0                 True               False               3.064052e+00  \n",
       "1                False                True               1.814283e-16  \n",
       "2                False               False               3.974187e+15  \n",
       "3                False               False              -2.721424e-16  \n",
       "4                False               False               4.415764e+14  \n",
       "5                False               False               6.623646e+15  "
      ]
     },
     "execution_count": 33,
     "metadata": {},
     "output_type": "execute_result"
    }
   ],
   "source": [
    "# Feature engineering\n",
    "ohe_df[\"Consumption per Million $\"] = ohe_df['Energy Consumption (MWh)'] / ohe_df['Cost (millions $)']\n",
    "\n",
    "ohe_df"
   ]
  },
  {
   "cell_type": "code",
   "execution_count": null,
   "id": "552ec7db-3005-4ac8-96ca-964c7c97dcf9",
   "metadata": {},
   "outputs": [],
   "source": []
  }
 ],
 "metadata": {
  "kernelspec": {
   "display_name": "Python 3 (ipykernel)",
   "language": "python",
   "name": "python3"
  },
  "language_info": {
   "codemirror_mode": {
    "name": "ipython",
    "version": 3
   },
   "file_extension": ".py",
   "mimetype": "text/x-python",
   "name": "python",
   "nbconvert_exporter": "python",
   "pygments_lexer": "ipython3",
   "version": "3.12.8"
  }
 },
 "nbformat": 4,
 "nbformat_minor": 5
}
